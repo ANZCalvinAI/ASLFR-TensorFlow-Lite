{
 "cells": [
  {
   "cell_type": "code",
   "execution_count": 1,
   "id": "41b48223",
   "metadata": {
    "execution": {
     "iopub.execute_input": "2023-08-04T04:11:50.205523Z",
     "iopub.status.busy": "2023-08-04T04:11:50.204979Z",
     "iopub.status.idle": "2023-08-04T04:11:50.217147Z",
     "shell.execute_reply": "2023-08-04T04:11:50.216309Z"
    },
    "papermill": {
     "duration": 0.021934,
     "end_time": "2023-08-04T04:11:50.219569",
     "exception": false,
     "start_time": "2023-08-04T04:11:50.197635",
     "status": "completed"
    },
    "tags": []
   },
   "outputs": [],
   "source": [
    "import numpy as np\n",
    "import json"
   ]
  },
  {
   "cell_type": "markdown",
   "id": "a97250ae",
   "metadata": {
    "papermill": {
     "duration": 0.00439,
     "end_time": "2023-08-04T04:11:50.228923",
     "exception": false,
     "start_time": "2023-08-04T04:11:50.224533",
     "status": "completed"
    },
    "tags": []
   },
   "source": [
    "# Character 2 Ordinal Encoding"
   ]
  },
  {
   "cell_type": "code",
   "execution_count": 2,
   "id": "4e195ebb",
   "metadata": {
    "execution": {
     "iopub.execute_input": "2023-08-04T04:11:50.240647Z",
     "iopub.status.busy": "2023-08-04T04:11:50.239834Z",
     "iopub.status.idle": "2023-08-04T04:11:50.251118Z",
     "shell.execute_reply": "2023-08-04T04:11:50.250115Z"
    },
    "papermill": {
     "duration": 0.02047,
     "end_time": "2023-08-04T04:11:50.253944",
     "exception": false,
     "start_time": "2023-08-04T04:11:50.233474",
     "status": "completed"
    },
    "tags": []
   },
   "outputs": [],
   "source": [
    "# Read Character to Ordinal Encoding Mapping\n",
    "# with open('/kaggle/input/asl-fingerspelling/character_to_prediction_index.json') as json_file:\n",
    "#     CHAR2ORD = json.load(json_file)\n",
    "\n",
    "CHAR2ORD = {\n",
    "    \" \":0, \"!\":1, \"#\":2, \"$\":3, \"%\":4, \"&\":5, \"'\":6, \"(\":7, \")\":8, \"*\":9,\n",
    "    \"+\":10, \",\":11, \"-\":12, \".\":13, \"\\/\":14, \"0\":15, \"1\":16, \"2\":17, \"3\":18, \"4\":19,\n",
    "    \"5\":20, \"6\":21, \"7\":22, \"8\":23, \"9\":24, \":\":25, \";\":26, \"=\":27, \"?\":28, \"@\":29,\n",
    "    \"[\":30, \"_\":31, \"a\":32, \"b\":33, \"c\":34, \"d\":35, \"e\":36, \"f\":37, \"g\":38, \"h\":39,\n",
    "    \"i\":40, \"j\":41, \"k\":42, \"l\":43, \"m\":44, \"n\":45, \"o\":46, \"p\":47, \"q\":48, \"r\":49,\n",
    "    \"s\":50, \"t\":51, \"u\":52, \"v\":53, \"w\":54, \"x\":55, \"y\":56, \"z\":57, \"~\":58\n",
    "}\n",
    "\n",
    "# Ordinal to Character Mapping\n",
    "ORD2CHAR = {j:i for i, j in CHAR2ORD.items()}\n",
    "    \n",
    "# Character to Ordinal Encoding Mapping   \n",
    "# display(pd.Series(CHAR2ORD).to_frame('Ordinal Encoding'))"
   ]
  },
  {
   "cell_type": "markdown",
   "id": "6a3d9226",
   "metadata": {
    "papermill": {
     "duration": 0.004785,
     "end_time": "2023-08-04T04:11:50.263776",
     "exception": false,
     "start_time": "2023-08-04T04:11:50.258991",
     "status": "completed"
    },
    "tags": []
   },
   "source": [
    "# Global Config"
   ]
  },
  {
   "cell_type": "code",
   "execution_count": 3,
   "id": "c5a3897a",
   "metadata": {
    "execution": {
     "iopub.execute_input": "2023-08-04T04:11:50.276042Z",
     "iopub.status.busy": "2023-08-04T04:11:50.275606Z",
     "iopub.status.idle": "2023-08-04T04:11:50.280769Z",
     "shell.execute_reply": "2023-08-04T04:11:50.279395Z"
    },
    "papermill": {
     "duration": 0.014817,
     "end_time": "2023-08-04T04:11:50.283648",
     "exception": false,
     "start_time": "2023-08-04T04:11:50.268831",
     "status": "completed"
    },
    "tags": []
   },
   "outputs": [],
   "source": [
    "# Length of Phrase + EOS Token\n",
    "MAX_PHRASE_LENGTH = 31 + 1"
   ]
  },
  {
   "cell_type": "markdown",
   "id": "aeee56cc",
   "metadata": {
    "papermill": {
     "duration": 0.004498,
     "end_time": "2023-08-04T04:11:50.293189",
     "exception": false,
     "start_time": "2023-08-04T04:11:50.288691",
     "status": "completed"
    },
    "tags": []
   },
   "source": [
    "# Load X/y"
   ]
  },
  {
   "cell_type": "code",
   "execution_count": 4,
   "id": "e4c6367e",
   "metadata": {
    "execution": {
     "iopub.execute_input": "2023-08-04T04:11:50.305264Z",
     "iopub.status.busy": "2023-08-04T04:11:50.303963Z",
     "iopub.status.idle": "2023-08-04T04:12:37.364630Z",
     "shell.execute_reply": "2023-08-04T04:12:37.363357Z"
    },
    "papermill": {
     "duration": 47.070096,
     "end_time": "2023-08-04T04:12:37.367856",
     "exception": false,
     "start_time": "2023-08-04T04:11:50.297760",
     "status": "completed"
    },
    "tags": []
   },
   "outputs": [],
   "source": [
    "# TRAIN\n",
    "X = np.load('/kaggle/input/aslfr-preprocessing-dataset/X.npy')\n",
    "y = np.load('/kaggle/input/aslfr-preprocessing-dataset/y.npy')[:, :MAX_PHRASE_LENGTH]\n",
    "# N_TRAIN_SAMPLES = len(X_train)\n",
    "# print(f'X_train shape: {X_train.shape}')"
   ]
  },
  {
   "cell_type": "code",
   "execution_count": 5,
   "id": "732e6427",
   "metadata": {
    "execution": {
     "iopub.execute_input": "2023-08-04T04:12:37.380123Z",
     "iopub.status.busy": "2023-08-04T04:12:37.379123Z",
     "iopub.status.idle": "2023-08-04T04:12:37.384424Z",
     "shell.execute_reply": "2023-08-04T04:12:37.383526Z"
    },
    "papermill": {
     "duration": 0.013956,
     "end_time": "2023-08-04T04:12:37.386741",
     "exception": false,
     "start_time": "2023-08-04T04:12:37.372785",
     "status": "completed"
    },
    "tags": []
   },
   "outputs": [],
   "source": [
    "X = X[:, :, 0:84]"
   ]
  },
  {
   "cell_type": "code",
   "execution_count": 6,
   "id": "5513df09",
   "metadata": {
    "execution": {
     "iopub.execute_input": "2023-08-04T04:12:37.398710Z",
     "iopub.status.busy": "2023-08-04T04:12:37.397758Z",
     "iopub.status.idle": "2023-08-04T04:12:37.407306Z",
     "shell.execute_reply": "2023-08-04T04:12:37.406239Z"
    },
    "papermill": {
     "duration": 0.018592,
     "end_time": "2023-08-04T04:12:37.410247",
     "exception": false,
     "start_time": "2023-08-04T04:12:37.391655",
     "status": "completed"
    },
    "tags": []
   },
   "outputs": [],
   "source": [
    "def rotate_point(x, y, angle_in_degrees):\n",
    "    theta = np.radians(angle_in_degrees)\n",
    "    cos_theta, sin_theta = np.cos(theta), np.sin(theta)\n",
    "    x_prime = x * cos_theta + y * sin_theta\n",
    "    y_prime = -x * sin_theta + y * cos_theta\n",
    "    return x_prime, y_prime\n",
    "\n",
    "def rotate_vector(vector, angle_in_degrees):\n",
    "    # split the vector into three parts: x and y coordinates for the left hand, right hand, and face\n",
    "    x_left_hand = vector[0:21]\n",
    "    y_left_hand = vector[21:42]\n",
    "    x_right_hand = vector[42:63]\n",
    "    y_right_hand = vector[63:84]\n",
    "    \n",
    "    new_vector = []\n",
    "    for x_coordinates, y_coordinates in [(x_left_hand, y_left_hand), (x_right_hand, y_right_hand)]:\n",
    "        for x, y in zip(x_coordinates, y_coordinates):\n",
    "            new_x, new_y = rotate_point(x, y, angle_in_degrees)\n",
    "            new_vector.append(new_x)\n",
    "            new_vector.append(new_y)\n",
    "    \n",
    "    return new_vector"
   ]
  },
  {
   "cell_type": "code",
   "execution_count": 7,
   "id": "5d9215b3",
   "metadata": {
    "execution": {
     "iopub.execute_input": "2023-08-04T04:12:37.422394Z",
     "iopub.status.busy": "2023-08-04T04:12:37.421942Z",
     "iopub.status.idle": "2023-08-04T04:12:37.427852Z",
     "shell.execute_reply": "2023-08-04T04:12:37.426485Z"
    },
    "papermill": {
     "duration": 0.015187,
     "end_time": "2023-08-04T04:12:37.430655",
     "exception": false,
     "start_time": "2023-08-04T04:12:37.415468",
     "status": "completed"
    },
    "tags": []
   },
   "outputs": [],
   "source": [
    "# intialise augmented datasets\n",
    "X1, X2 = X, X"
   ]
  },
  {
   "cell_type": "code",
   "execution_count": 8,
   "id": "375c0914",
   "metadata": {
    "execution": {
     "iopub.execute_input": "2023-08-04T04:12:37.445335Z",
     "iopub.status.busy": "2023-08-04T04:12:37.444072Z",
     "iopub.status.idle": "2023-08-04T05:53:22.240026Z",
     "shell.execute_reply": "2023-08-04T05:53:22.237552Z"
    },
    "papermill": {
     "duration": 6044.808031,
     "end_time": "2023-08-04T05:53:22.243833",
     "exception": false,
     "start_time": "2023-08-04T04:12:37.435802",
     "status": "completed"
    },
    "tags": []
   },
   "outputs": [],
   "source": [
    "X_shape = X.shape\n",
    "\n",
    "# process augmented dataset 1\n",
    "for i in range(X_shape[0]):\n",
    "    for j in range(X_shape[1]):\n",
    "        X1[i, j] = rotate_vector(X1[i, j], 2)\n",
    "\n",
    "# process augmented dataset 2\n",
    "for i in range(X_shape[0]):\n",
    "    for j in range(X_shape[1]):\n",
    "        X2[i, j] = rotate_vector(X2[i, j], -2)"
   ]
  },
  {
   "cell_type": "code",
   "execution_count": 9,
   "id": "2e8d99a8",
   "metadata": {
    "execution": {
     "iopub.execute_input": "2023-08-04T05:53:22.262294Z",
     "iopub.status.busy": "2023-08-04T05:53:22.260494Z",
     "iopub.status.idle": "2023-08-04T05:53:32.332048Z",
     "shell.execute_reply": "2023-08-04T05:53:32.330816Z"
    },
    "papermill": {
     "duration": 10.083807,
     "end_time": "2023-08-04T05:53:32.335116",
     "exception": false,
     "start_time": "2023-08-04T05:53:22.251309",
     "status": "completed"
    },
    "tags": []
   },
   "outputs": [],
   "source": [
    "# concatenate original and augmented datasets\n",
    "X = np.concatenate((X, X1, X2), axis=2)\n",
    "y = np.concatenate((y, y, y), axis=1)"
   ]
  },
  {
   "cell_type": "code",
   "execution_count": 10,
   "id": "4c110b0a",
   "metadata": {
    "execution": {
     "iopub.execute_input": "2023-08-04T05:53:32.349526Z",
     "iopub.status.busy": "2023-08-04T05:53:32.348534Z",
     "iopub.status.idle": "2023-08-04T05:54:09.278027Z",
     "shell.execute_reply": "2023-08-04T05:54:09.275417Z"
    },
    "papermill": {
     "duration": 36.943735,
     "end_time": "2023-08-04T05:54:09.284919",
     "exception": false,
     "start_time": "2023-08-04T05:53:32.341184",
     "status": "completed"
    },
    "tags": []
   },
   "outputs": [],
   "source": [
    "# save X and y\n",
    "np.save('X.npy', X)\n",
    "np.save('y.npy', y)"
   ]
  }
 ],
 "metadata": {
  "kernelspec": {
   "display_name": "Python 3",
   "language": "python",
   "name": "python3"
  },
  "language_info": {
   "codemirror_mode": {
    "name": "ipython",
    "version": 3
   },
   "file_extension": ".py",
   "mimetype": "text/x-python",
   "name": "python",
   "nbconvert_exporter": "python",
   "pygments_lexer": "ipython3",
   "version": "3.10.10"
  },
  "papermill": {
   "default_parameters": {},
   "duration": 6155.551806,
   "end_time": "2023-08-04T05:54:11.757526",
   "environment_variables": {},
   "exception": null,
   "input_path": "__notebook__.ipynb",
   "output_path": "__notebook__.ipynb",
   "parameters": {},
   "start_time": "2023-08-04T04:11:36.205720",
   "version": "2.4.0"
  }
 },
 "nbformat": 4,
 "nbformat_minor": 5
}
